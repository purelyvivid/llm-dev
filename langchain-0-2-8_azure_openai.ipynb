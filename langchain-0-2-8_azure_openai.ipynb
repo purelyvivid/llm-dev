{
 "cells": [
  {
   "cell_type": "code",
   "execution_count": 1,
   "id": "aa228ff0-b511-4f44-b611-98964b410232",
   "metadata": {
    "tags": []
   },
   "outputs": [
    {
     "name": "stdout",
     "output_type": "stream",
     "text": [
      "\u001b[33m  WARNING: The script tb-gcp-uploader is installed in '/home/jupyter/.local/bin' which is not on PATH.\n",
      "  Consider adding this directory to PATH or, if you prefer to suppress this warning, use --no-warn-script-location.\u001b[0m\u001b[33m\n",
      "\u001b[0m\u001b[31mERROR: pip's dependency resolver does not currently take into account all the packages that are installed. This behaviour is the source of the following dependency conflicts.\n",
      "google-api-python-client 1.8.0 requires google-api-core<2dev,>=1.13.0, but you have google-api-core 2.19.1 which is incompatible.\u001b[0m\u001b[31m\n",
      "\u001b[0m"
     ]
    }
   ],
   "source": [
    "!pip install -q python-dotenv langchain langchain-openai \n",
    "!pip install -q --user langchain-google-vertexai "
   ]
  },
  {
   "cell_type": "code",
   "execution_count": null,
   "id": "3e621465-9fc8-4318-a2fd-d6cc00cd58f5",
   "metadata": {
    "tags": []
   },
   "outputs": [],
   "source": [
    "from dotenv import load_dotenv\n",
    "load_dotenv('config')"
   ]
  },
  {
   "cell_type": "code",
   "execution_count": null,
   "id": "6599700f-37cf-4655-9927-9d005ffd2bef",
   "metadata": {
    "tags": []
   },
   "outputs": [],
   "source": [
    "import os\n",
    "from langchain.chat_models import init_chat_model\n",
    "azure_openai_model = init_chat_model(\n",
    "                model_provider=\"azure_openai\", \n",
    "                azure_endpoint=os.environ.get(\"AZUREOPENAI_BASE_URL\"),\n",
    "                model=os.environ.get(\"AZUREOPENAI_MODEL\"),\n",
    "                api_key=os.environ.get(\"AZUREOPENAI_API_KEY\"),\n",
    "                api_version=os.environ.get(\"AZUREOPENAI_VERSION\"),\n",
    "                temperature=0.7\n",
    "               )"
   ]
  },
  {
   "cell_type": "code",
   "execution_count": null,
   "id": "c98efcc3-e737-4286-ab5d-c1be0d48f656",
   "metadata": {
    "tags": []
   },
   "outputs": [],
   "source": [
    "azure_openai_model.invoke(\"你好\").content"
   ]
  },
  {
   "cell_type": "code",
   "execution_count": null,
   "id": "37b22950-0022-4647-b0d3-5dafd678089b",
   "metadata": {
    "tags": []
   },
   "outputs": [],
   "source": [
    "gcp_vertexai_model = init_chat_model(\n",
    "                model_provider=\"google_vertexai\", \n",
    "                model=os.environ.get(\"AZUREOPENAI_MODEL\"),\n",
    "                temperature=0.7\n",
    "               )"
   ]
  },
  {
   "cell_type": "code",
   "execution_count": null,
   "id": "97fe1812-a21a-4280-9d8f-ab4bbba6f93b",
   "metadata": {
    "tags": []
   },
   "outputs": [],
   "source": [
    "init_chat_model?"
   ]
  },
  {
   "cell_type": "code",
   "execution_count": null,
   "id": "ea40fbbd-11c8-4a68-a3a6-e352a249ba80",
   "metadata": {},
   "outputs": [],
   "source": []
  }
 ],
 "metadata": {
  "kernelspec": {
   "display_name": "Python (Local)",
   "language": "python",
   "name": "base"
  },
  "language_info": {
   "codemirror_mode": {
    "name": "ipython",
    "version": 3
   },
   "file_extension": ".py",
   "mimetype": "text/x-python",
   "name": "python",
   "nbconvert_exporter": "python",
   "pygments_lexer": "ipython3",
   "version": "3.10.14"
  }
 },
 "nbformat": 4,
 "nbformat_minor": 5
}
